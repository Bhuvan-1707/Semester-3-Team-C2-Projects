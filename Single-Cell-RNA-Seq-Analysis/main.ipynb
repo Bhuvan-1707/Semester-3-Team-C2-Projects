{
 "cells": [
  {
   "cell_type": "code",
   "execution_count": 4,
   "id": "990e8604",
   "metadata": {},
   "outputs": [],
   "source": [
    "import scanpy as sp\n",
    "import numpy as np"
   ]
  },
  {
   "cell_type": "code",
   "execution_count": 10,
   "id": "ab83e7f8",
   "metadata": {},
   "outputs": [],
   "source": [
    "# Importing PBMC 3K Dataset\n",
    "df = sp.datasets.pbmc3k()"
   ]
  },
  {
   "cell_type": "code",
   "execution_count": null,
   "id": "07939255",
   "metadata": {},
   "outputs": [
    {
     "name": "stdout",
     "output_type": "stream",
     "text": [
      "(2700, 32738)\n"
     ]
    }
   ],
   "source": [
    "# Gene Expression matrix X's shape\n",
    "print(df.X.shape)\n",
    "# => 2700 Cells with 32738 Gene Data"
   ]
  },
  {
   "cell_type": "code",
   "execution_count": null,
   "id": "4ff9f754",
   "metadata": {},
   "outputs": [
    {
     "name": "stdout",
     "output_type": "stream",
     "text": [
      "Empty DataFrame\n",
      "Columns: []\n",
      "Index: [AAACATACAACCAC-1, AAACATTGAGCTAC-1, AAACATTGATCAGC-1, AAACCGTGCTTCCG-1, AAACCGTGTATGCG-1, AAACGCACTGGTAC-1, AAACGCTGACCAGT-1, AAACGCTGGTTCTT-1, AAACGCTGTAGCCA-1, AAACGCTGTTTCTG-1, AAACTTGAAAAACG-1, AAACTTGATCCAGA-1, AAAGAGACGAGATA-1, AAAGAGACGCGAGA-1, AAAGAGACGGACTT-1, AAAGAGACGGCATT-1, AAAGATCTGGGCAA-1, AAAGCAGAAGCCAT-1, AAAGCAGATATCGG-1, AAAGCCTGTATGCG-1, AAAGGCCTGTCTAG-1, AAAGTTTGATCACG-1, AAAGTTTGGGGTGA-1, AAAGTTTGTAGAGA-1, AAAGTTTGTAGCGT-1, AAATCAACAATGCC-1, AAATCAACACCAGT-1, AAATCAACCAGGAG-1, AAATCAACCCTATT-1, AAATCAACGGAAGC-1, AAATCAACTCGCAA-1, AAATCATGACCACA-1, AAATCCCTCCACAA-1, AAATCCCTGCTATG-1, AAATGTTGAACGAA-1, AAATGTTGCCACAA-1, AAATGTTGTGGCAT-1, AAATTCGAAGGTTC-1, AAATTCGAATCACG-1, AAATTCGAGCTGAT-1, AAATTCGAGGAGTG-1, AAATTCGATTCTCA-1, AAATTGACACGACT-1, AAATTGACTCGCTC-1, AACAAACTCATTTC-1, AACAAACTTTCGTT-1, AACAATACGACGAG-1, AACACGTGCAGAGG-1, AACACGTGGAAAGT-1, AACACGTGGAACCT-1, AACACGTGGCTACA-1, AACACGTGTACGAC-1, AACAGCACAAGAGT-1, AACATTGATGGGAG-1, AACCAGTGATACCG-1, AACCCAGATCGCTC-1, AACCGATGCTCCCA-1, AACCGATGGTCATG-1, AACCGATGTTCTAC-1, AACCGCCTAGCGTT-1, AACCGCCTCTACGA-1, AACCTACTGTGAGG-1, AACCTACTGTGTTG-1, AACCTTACGAGACG-1, AACCTTACGCGAGA-1, AACCTTACTAACGC-1, AACCTTTGGACGGA-1, AACCTTTGTACGCA-1, AACGCAACAAGTAG-1, AACGCATGACCCAA-1, AACGCATGCCTTCG-1, AACGCATGTACTTC-1, AACGCCCTCGGGAA-1, AACGCCCTCGTACA-1, AACGCCCTGCTTAG-1, AACGCCCTGGCATT-1, AACGTCGAGTATCG-1, AACGTGTGAAAGCA-1, AACGTGTGGCGGAA-1, AACGTGTGTCCAAG-1, AACGTGTGTGCTTT-1, AACTACCTTAGAGA-1, AACTCACTCAAGCT-1, AACTCACTTGGAGG-1, AACTCGGAAAGTGA-1, AACTCGGAAGGTCT-1, AACTCTTGCAGGAG-1, AACTGTCTCCCTTG-1, AACTTGCTACGCTA-1, AACTTGCTGGGACA-1, AAGAACGAGTGTTG-1, AAGAAGACGTAGGG-1, AAGACAGAAGTCTG-1, AAGACAGAGGATCT-1, AAGACAGATTACCT-1, AAGAGATGGGTAGG-1, AAGATGGAAAACAG-1, AAGATGGAGAACTC-1, AAGATGGAGATAAG-1, AAGATTACAACCTG-1, ...]\n",
      "\n",
      "[2700 rows x 0 columns]\n"
     ]
    }
   ],
   "source": [
    "print(df.obs)\n",
    "# No.of Cells\n",
    "# The Indexes are actually the Cell barcodes which are totally random for each cell - ``cell id``"
   ]
  },
  {
   "cell_type": "code",
   "execution_count": 19,
   "id": "d54b7715",
   "metadata": {},
   "outputs": [
    {
     "name": "stdout",
     "output_type": "stream",
     "text": [
      "                     gene_ids\n",
      "index                        \n",
      "MIR1302-10    ENSG00000243485\n",
      "FAM138A       ENSG00000237613\n",
      "OR4F5         ENSG00000186092\n",
      "RP11-34P13.7  ENSG00000238009\n",
      "RP11-34P13.8  ENSG00000239945\n",
      "...                       ...\n",
      "AC145205.1    ENSG00000215635\n",
      "BAGE5         ENSG00000268590\n",
      "CU459201.1    ENSG00000251180\n",
      "AC002321.2    ENSG00000215616\n",
      "AC002321.1    ENSG00000215611\n",
      "\n",
      "[32738 rows x 1 columns]\n"
     ]
    }
   ],
   "source": [
    "print(df.var)\n",
    "# No.of Genes per cell\n",
    "# The index is the name of the gene - gene-ids is the genetic identity (both are same)"
   ]
  },
  {
   "cell_type": "code",
   "execution_count": null,
   "id": "febd603c",
   "metadata": {},
   "outputs": [
    {
     "name": "stdout",
     "output_type": "stream",
     "text": [
      "OrderedDict()\n",
      "AxisArrays with keys: \n",
      "AxisArrays with keys: \n",
      "Layers with keys: \n",
      "(2700, 32738)\n",
      "None\n"
     ]
    }
   ],
   "source": [
    "print(df.uns) # Unspecified Annotation\n",
    "print(df.obsm)\n",
    "print(df.varm)\n",
    "print(df.layers)\n",
    "print(df.shape)\n",
    "print(df.filename)"
   ]
  },
  {
   "cell_type": "code",
   "execution_count": null,
   "id": "028afbf8",
   "metadata": {},
   "outputs": [],
   "source": []
  }
 ],
 "metadata": {
  "kernelspec": {
   "display_name": "IBS",
   "language": "python",
   "name": "python3"
  },
  "language_info": {
   "codemirror_mode": {
    "name": "ipython",
    "version": 3
   },
   "file_extension": ".py",
   "mimetype": "text/x-python",
   "name": "python",
   "nbconvert_exporter": "python",
   "pygments_lexer": "ipython3",
   "version": "3.10.13"
  }
 },
 "nbformat": 4,
 "nbformat_minor": 5
}
